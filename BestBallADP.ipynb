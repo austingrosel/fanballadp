{
 "cells": [
  {
   "cell_type": "code",
   "execution_count": 52,
   "metadata": {},
   "outputs": [],
   "source": [
    "# docker run -d -p 4444:4444 --shm-size=8g selenium/standalone-chrome\n",
    "\n",
    "import time\n",
    "from selenium import webdriver\n",
    "from selenium.webdriver.common.desired_capabilities import DesiredCapabilities\n",
    "from selenium.webdriver.chrome.options import Options\n",
    "from bs4 import BeautifulSoup\n",
    "\n",
    "driver = webdriver.Remote(\"http://127.0.0.1:4444/wd/hub\",\n",
    "                          desired_capabilities=DesiredCapabilities.CHROME)\n",
    "driver.maximize_window()\n",
    "driver.get(\"https://bestball10s.shgn.com/adp/football\")\n",
    "\n",
    "time.sleep(10)\n",
    "#driver.get_screenshot_as_file('google.png')\n",
    "\n",
    "eleUserMessage = driver.find_element_by_xpath(\"//*[@id=\\\"from_date\\\"]\")\n",
    "eleUserMessage.clear()\n",
    "eleUserMessage.send_keys(\"02/24/2020\")\n",
    "\n",
    "#eleUserMessage = driver.find_element_by_xpath(\"//*[@id=\\\"to_date\\\"]\")\n",
    "#eleUserMessage.clear()\n",
    "#eleUserMessage.send_keys(\"03/02/2020\")\n",
    "\n",
    "eleShowMsgBtn = driver.find_element_by_xpath('//*[@id=\"adp_range\"]/span/input[1]')\n",
    "eleShowMsgBtn.click()\n",
    "\n",
    "time.sleep(10)\n",
    "\n",
    "tbl = driver.find_element_by_xpath(\"//*[@id=\\\"adp\\\"]\").get_attribute('outerHTML')\n",
    "\n",
    "html=driver.page_source\n",
    "soup=BeautifulSoup(html,'html.parser')\n",
    "\n",
    "df = pd.read_html(tbl)[0]\n",
    "\n",
    "df = df[['Rk', 'Player', 'Team', 'Position(s)', 'ADP', 'Min', 'Max', '# Picks']]\n",
    "\n",
    "driver.close()"
   ]
  },
  {
   "cell_type": "code",
   "execution_count": null,
   "metadata": {},
   "outputs": [],
   "source": []
  }
 ],
 "metadata": {
  "kernelspec": {
   "display_name": "Python 3",
   "language": "python",
   "name": "python3"
  },
  "language_info": {
   "codemirror_mode": {
    "name": "ipython",
    "version": 3
   },
   "file_extension": ".py",
   "mimetype": "text/x-python",
   "name": "python",
   "nbconvert_exporter": "python",
   "pygments_lexer": "ipython3",
   "version": "3.7.2"
  }
 },
 "nbformat": 4,
 "nbformat_minor": 2
}
