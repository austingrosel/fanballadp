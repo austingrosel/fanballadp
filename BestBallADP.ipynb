{
 "cells": [
  {
   "cell_type": "code",
   "execution_count": 11,
   "metadata": {},
   "outputs": [
    {
     "name": "stdout",
     "output_type": "stream",
     "text": [
      "***** Could not find a table for 2020-02-02\n"
     ]
    }
   ],
   "source": [
    "# docker run -d -p 4444:4444 --shm-size=8g selenium/standalone-chrome\n",
    "\n",
    "import time\n",
    "import datetime\n",
    "import pandas as pd\n",
    "\n",
    "from selenium import webdriver\n",
    "from selenium.webdriver.common.desired_capabilities import DesiredCapabilities\n",
    "from selenium.webdriver.chrome.options import Options\n",
    "\n",
    "now = datetime.date(2020, 2, 2)\n",
    "date_start = (now - datetime.timedelta(days=1))\n",
    "date_end = now\n",
    "\n",
    "driver = webdriver.Remote(\"http://127.0.0.1:4444/wd/hub\",\n",
    "                          desired_capabilities=DesiredCapabilities.CHROME)\n",
    "driver.maximize_window()\n",
    "driver.get(\"https://bestball10s.shgn.com/adp/football\")\n",
    "\n",
    "time.sleep(5)\n",
    "\n",
    "from_date_input = driver.find_element_by_xpath(\"//*[@id=\\\"from_date\\\"]\")\n",
    "from_date_input.clear()\n",
    "from_date_input.send_keys(date_start.strftime(\"%m/%d/%Y\"))\n",
    "\n",
    "to_date_input = driver.find_element_by_xpath(\"//*[@id=\\\"to_date\\\"]\")\n",
    "to_date_input.clear()\n",
    "to_date_input.send_keys(date_end.strftime(\"%m/%d/%Y\"))\n",
    "\n",
    "eleShowMsgBtn = driver.find_element_by_xpath('//*[@id=\"adp_range\"]/span/input[1]')\n",
    "eleShowMsgBtn.click()\n",
    "\n",
    "time.sleep(5)\n",
    "\n",
    "tbl = driver.find_element_by_xpath(\"//*[@id=\\\"adp\\\"]\").get_attribute('outerHTML')\n",
    "\n",
    "try:\n",
    "    df = pd.read_html(tbl)[0]\n",
    "    df = df[['Rk', 'Player', 'Team', 'Position(s)', 'ADP', 'Min', 'Max', '# Picks']]\n",
    "    df['StartDate'] = date_start.strftime(\"%Y-%m-%d\")\n",
    "    df['ScrapeDate'] = date_end.strftime(\"%Y-%m-%d\")\n",
    "except:\n",
    "    print(\"***** Could not find a table for {}\".format(date_end))\n",
    "    df = pd.DataFrame()\n",
    "    \n",
    "driver.close()"
   ]
  },
  {
   "cell_type": "code",
   "execution_count": 13,
   "metadata": {},
   "outputs": [],
   "source": [
    "df.to_csv('asdf.csv')"
   ]
  },
  {
   "cell_type": "code",
   "execution_count": 16,
   "metadata": {},
   "outputs": [],
   "source": [
    "def daterange(start_date, end_date):\n",
    "    for n in range(int((end_date - start_date).days)):\n",
    "        yield start_date + datetime.timedelta(n)"
   ]
  }
 ],
 "metadata": {
  "kernelspec": {
   "display_name": "Python 3",
   "language": "python",
   "name": "python3"
  },
  "language_info": {
   "codemirror_mode": {
    "name": "ipython",
    "version": 3
   },
   "file_extension": ".py",
   "mimetype": "text/x-python",
   "name": "python",
   "nbconvert_exporter": "python",
   "pygments_lexer": "ipython3",
   "version": "3.7.2"
  }
 },
 "nbformat": 4,
 "nbformat_minor": 2
}
